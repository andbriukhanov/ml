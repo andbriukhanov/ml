{
  "cells": [
    {
      "cell_type": "markdown",
      "metadata": {
        "id": "M-DGa20PaHnu"
      },
      "source": [
        "# Задача 1\n",
        "Написать функцию на вход которой подается строка, состоящая из латинских букв.\n",
        "Функция должна вернуть количество гласных букв (a, e, i, o, u) в этой строке. Написать тесты для кода"
      ]
    },
    {
      "cell_type": "code",
      "execution_count": null,
      "metadata": {
        "id": "XvX8X_JJ6PCb"
      },
      "outputs": [],
      "source": [
        "def count_vowels(s):\n",
        "    vowels = 'aeiou'\n",
        "    count = 0\n",
        "    for char in s.lower():\n",
        "        if char in vowels:\n",
        "            count += 1\n",
        "    return count"
      ]
    },
    {
      "cell_type": "code",
      "execution_count": null,
      "metadata": {},
      "outputs": [],
      "source": [
        "def test_count_vowels():\n",
        "    assert count_vowels(' ') == 0\n",
        "    assert count_vowels('bhplmfr') == 0\n",
        "    assert count_vowels('aytouet') == 4\n",
        "    assert count_vowels('AEiFkmoa') == 5\n",
        "\n",
        "test_count_vowels()"
      ]
    },
    {
      "cell_type": "markdown",
      "metadata": {
        "id": "t2ClV_Y0bbr6"
      },
      "source": [
        "# Задача 2\n",
        "Написать функцию на вход, которой подается строка. Функция должна вернуть true, если\n",
        "каждый символ в строке встречается только 1 раз, иначе должна вернуть false. Написать тесты для кода"
      ]
    },
    {
      "cell_type": "code",
      "execution_count": null,
      "metadata": {
        "id": "FppbECao6VIz"
      },
      "outputs": [],
      "source": [
        "def is_unique(s):\n",
        "    return len(set(s)) == len(s)"
      ]
    },
    {
      "cell_type": "code",
      "execution_count": null,
      "metadata": {},
      "outputs": [],
      "source": [
        "def test_is_unique():\n",
        "    assert is_unique('')\n",
        "    assert is_unique('abcdefg')\n",
        "    assert not is_unique('abbcdehi')\n",
        "    assert not is_unique('Ko1rfv66')\n",
        "    \n",
        "test_is_unique()"
      ]
    },
    {
      "cell_type": "markdown",
      "metadata": {
        "id": "udRiIK1cdt6E"
      },
      "source": [
        "# Задача 3\n",
        "Написать функцию, которая принимает положительное число и возвращает количество\n",
        "бит равных 1 в этом числе. Написать тесты для кода"
      ]
    },
    {
      "cell_type": "code",
      "execution_count": null,
      "metadata": {
        "id": "6tkfDJRz6dp_"
      },
      "outputs": [],
      "source": [
        "def count_bits(n):\n",
        "    return bin(n).count('1')"
      ]
    },
    {
      "cell_type": "code",
      "execution_count": null,
      "metadata": {},
      "outputs": [],
      "source": [
        "def test_count_bits():\n",
        "    assert count_bits(0) == 0\n",
        "    assert count_bits(1) == 1\n",
        "    assert count_bits(2) == 1\n",
        "    assert count_bits(3) == 2\n",
        "    assert count_bits(4) == 1\n",
        "\n",
        "test_count_bits()"
      ]
    },
    {
      "cell_type": "markdown",
      "metadata": {
        "id": "26dDUz-Ae17N"
      },
      "source": [
        "# Задача 4\n",
        "Написать функцию, которая принимает положительное число. Функция должна вернуть то,\n",
        "сколько раз необходимо перемножать цифры числа или результат перемножения, чтобы\n",
        "получилось число состоящее из одной цифры.\n",
        "Например, для входного числа:\n",
        "· 39 функция должна вернуть 3, так как 3*9=27 => 2*7=14 => 1*4=4\n",
        "· 4 функция должна вернуть 0, так как число уже состоит из одной цифры\n",
        "· 999 функция должна вернуть 4, так как 9*9*9=729 => 7*2*9=126 => 1*2*6=12 =>\n",
        "1*2=2. Написать тесты для кода"
      ]
    },
    {
      "cell_type": "code",
      "execution_count": null,
      "metadata": {
        "id": "BH1A_Mgi6i4G"
      },
      "outputs": [],
      "source": [
        "def magic(n):\n",
        "    count = 0\n",
        "    while n > 9:\n",
        "        n = product_of_digits(n)\n",
        "        count += 1\n",
        "    return count\n",
        "\n",
        "def product_of_digits(n):\n",
        "    product = 1\n",
        "    while n > 0:\n",
        "        n, digit = divmod(n, 10)\n",
        "        product *= digit\n",
        "    return product"
      ]
    },
    {
      "cell_type": "code",
      "execution_count": null,
      "metadata": {},
      "outputs": [],
      "source": [
        "def test_magic():\n",
        "    assert magic(39) == 3\n",
        "    assert magic(4) == 0\n",
        "    assert magic(999) == 4\n",
        "    assert magic(25) == 2\n",
        "\n",
        "test_magic()"
      ]
    },
    {
      "cell_type": "markdown",
      "metadata": {
        "id": "0nS-kIa8g8vd"
      },
      "source": [
        "# Задача 5\n",
        "Написать функцию, которая принимает два целочисленных вектора одинаковой длины и\n",
        "возвращает среднеквадратическое отклонение двух векторов. Написать тесты для кода"
      ]
    },
    {
      "cell_type": "code",
      "execution_count": 3,
      "metadata": {
        "id": "8iphx4LM6xbx"
      },
      "outputs": [],
      "source": [
        "def mse(pred, true):\n",
        "    return sum((p - t) ** 2 for p, t in zip(pred, true)) / len(pred)"
      ]
    },
    {
      "cell_type": "code",
      "execution_count": 2,
      "metadata": {},
      "outputs": [],
      "source": [
        "def test_mse():\n",
        "    assert mse([1, 2, 3], [1, 2, 3]) == 0\n",
        "    assert mse([0, 0, 0], [0, 0, 0]) == 0\n",
        "    assert mse([1, 1, 1], [0, 0, 0]) == 1\n",
        "    assert mse([1, -1, 1], [-1, 1, -1]) == 4\n",
        "\n",
        "test_mse()"
      ]
    },
    {
      "cell_type": "markdown",
      "metadata": {
        "id": "vpIPKL439zkw"
      },
      "source": [
        "# Задача 6\n",
        "Написать функцию, принимающая целое положительное число. Функция должна вернуть\n",
        "строку вида “(n1**p1)(n2**p2)…(nk**pk)” представляющая разложение числа на простые\n",
        "множители (если pi == 1, то выводить только ni).\n",
        "Например, для числа 86240 функция должна вернуть “(2**5)(5)(7**2)(11)”. Написать тесты для кода"
      ]
    },
    {
      "cell_type": "code",
      "execution_count": null,
      "metadata": {
        "id": "pFebmcZk94Jw"
      },
      "outputs": [],
      "source": [
        "def prime_factors(n):\n",
        "    i = 2\n",
        "    factors = []\n",
        "    while i * i <= n:\n",
        "        if n % i:\n",
        "            i += 1\n",
        "        else:\n",
        "            n //= i\n",
        "            factors.append(i)\n",
        "    if n > 1:\n",
        "        factors.append(n)\n",
        "    return format_factors(factors)\n",
        "\n",
        "def format_factors(factors):\n",
        "    primes = sorted(set(factors))\n",
        "    result = ''\n",
        "    for prime in primes:\n",
        "        power = factors.count(prime)\n",
        "        if power == 1:\n",
        "            result += f'({prime})'\n",
        "        else:\n",
        "            result += f'({prime}**{power})'\n",
        "    return result"
      ]
    },
    {
      "cell_type": "code",
      "execution_count": null,
      "metadata": {},
      "outputs": [],
      "source": [
        "def test_prime_factors():\n",
        "    assert prime_factors(86240) == '(2**5)(5)(7**2)(11)'\n",
        "    assert prime_factors(14) == '(2)(7)'\n",
        "    assert prime_factors(56792) == '(2**3)(31)(229)'\n",
        "    assert prime_factors(4) == '(2**2)'\n",
        "    assert prime_factors(112) == '(2**4)(7)'\n",
        "\n",
        "test_prime_factors()"
      ]
    },
    {
      "cell_type": "markdown",
      "metadata": {
        "id": "ps2s0BudX7A2"
      },
      "source": [
        "# Задача 7\n",
        "Написать функцию, принимающая целое число n, задающее количество кубиков. Функция\n",
        "должна определить, можно ли из данного кол-ва кубиков построить пирамиду, то есть\n",
        "можно ли представить число n как 1^2+2^2+3^2+…+k^2. Если можно, то функция должна\n",
        "вернуть k, иначе строку “It is impossible”. Написать тесты для кода"
      ]
    },
    {
      "cell_type": "code",
      "execution_count": 4,
      "metadata": {
        "id": "3YPjEXxhX_YT"
      },
      "outputs": [],
      "source": [
        "def pyramid(n):\n",
        "    total_cubes = 0\n",
        "    k = 0\n",
        "    while total_cubes < n:\n",
        "        k += 1\n",
        "        total_cubes += k ** 2\n",
        "    if total_cubes == n:\n",
        "        return k\n",
        "    else:\n",
        "        return \"It is impossible\""
      ]
    },
    {
      "cell_type": "code",
      "execution_count": 5,
      "metadata": {},
      "outputs": [],
      "source": [
        "def test_pyramid():\n",
        "    assert pyramid(14) == 3\n",
        "    assert pyramid(30) == 4\n",
        "    assert pyramid(91) == 6\n",
        "    assert pyramid(1) == 1\n",
        "    assert pyramid(-15) == 'It is impossible'\n",
        "\n",
        "test_pyramid()"
      ]
    },
    {
      "cell_type": "markdown",
      "metadata": {
        "id": "KeKgmIdAQMEJ"
      },
      "source": [
        "# Задача 8\n",
        "Функция принимает на вход положительное число и определяет является ли оно сбалансированным, т.е. сумма цифр до средних равна сумме цифр после. Средними в случае нечетного числа цифр считать одну цифру, в случае четного - две средних. Написать тесты для кода"
      ]
    },
    {
      "cell_type": "code",
      "execution_count": 6,
      "metadata": {},
      "outputs": [],
      "source": [
        "def is_balanced(n):\n",
        "    s = str(n)\n",
        "    midpoint = len(s) // 2\n",
        "    if len(s) % 2 == 0:\n",
        "        return sum(int(digit) for digit in s[:midpoint]) == sum(int(digit) for digit in s[midpoint:])\n",
        "    else:\n",
        "        return sum(int(digit) for digit in s[:midpoint]) == sum(int(digit) for digit in s[midpoint + 1:])\n"
      ]
    },
    {
      "cell_type": "code",
      "execution_count": 7,
      "metadata": {},
      "outputs": [],
      "source": [
        "def test_is_balanced():\n",
        "    assert is_balanced(123321) == True\n",
        "    assert is_balanced(12321) == True\n",
        "    assert is_balanced(12345) == False\n",
        "    assert is_balanced(121) == True\n",
        "\n",
        "test_is_balanced()"
      ]
    }
  ],
  "metadata": {
    "colab": {
      "provenance": []
    },
    "kernelspec": {
      "display_name": "Python 3",
      "name": "python3"
    },
    "language_info": {
      "codemirror_mode": {
        "name": "ipython",
        "version": 3
      },
      "file_extension": ".py",
      "mimetype": "text/x-python",
      "name": "python",
      "nbconvert_exporter": "python",
      "pygments_lexer": "ipython3",
      "version": "3.11.8"
    }
  },
  "nbformat": 4,
  "nbformat_minor": 0
}
