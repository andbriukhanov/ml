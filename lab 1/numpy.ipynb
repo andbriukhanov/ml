{
  "cells": [
    {
      "cell_type": "markdown",
      "metadata": {
        "id": "vC84e9kzyxPy"
      },
      "source": [
        "<h1>Импорт библиотек"
      ]
    },
    {
      "cell_type": "code",
      "execution_count": 1,
      "metadata": {
        "id": "cgKeNegmQG5S"
      },
      "outputs": [],
      "source": [
        "import numpy as np\n",
        "import matplotlib.pyplot as plt"
      ]
    },
    {
      "cell_type": "markdown",
      "metadata": {
        "id": "qFM9uVU2x4Ls"
      },
      "source": [
        "<h1>Задача 1. Дан набор из $p$ матриц размерностью $(n, n)$ и $p$ векторов размерностью $(n, 1)$, найти сумму произведений матриц на векторы. Написать тесты для кода"
      ]
    },
    {
      "cell_type": "code",
      "execution_count": 2,
      "metadata": {
        "id": "IAbUvEiYyWFF"
      },
      "outputs": [],
      "source": [
        "def sum_prod(X, V):\n",
        "    result = 0\n",
        "    for matrix, vector in zip(X, V):\n",
        "        result += np.dot(matrix, vector)\n",
        "    return result"
      ]
    },
    {
      "cell_type": "code",
      "execution_count": 3,
      "metadata": {},
      "outputs": [],
      "source": [
        "def test_sum_prod():\n",
        "    matrix1 = np.array([[1, 2], [3, 4]])\n",
        "    matrix2 = np.array([[5, 6], [7, 8]])\n",
        "    vector1 = np.array([[1], [1]])\n",
        "    vector2 = np.array([[3], [4]])\n",
        "\n",
        "    matrices = [matrix1, matrix2]\n",
        "    vectors = [vector1, vector2]\n",
        "\n",
        "    expected_result = np.array([[42], [60]])\n",
        "    assert np.array_equal(sum_prod(matrices, vectors), expected_result)\n",
        "\n",
        "test_sum_prod()"
      ]
    },
    {
      "cell_type": "markdown",
      "metadata": {
        "id": "TKwPG4fIy2w4"
      },
      "source": [
        "<h1>Задача 2. Дана матрица M, напишите функцию, которая бинаризует матрицу по некоторому threshold (то есть, все значения большие threshold становятся равными 1, иначе 0). Напишите тесты для кода"
      ]
    },
    {
      "cell_type": "code",
      "execution_count": 5,
      "metadata": {
        "id": "KQDNMgsjRNH7"
      },
      "outputs": [],
      "source": [
        "def binarize(M, threshold=0.5):\n",
        "    return np.where(M > threshold, 1, 0)"
      ]
    },
    {
      "cell_type": "code",
      "execution_count": 7,
      "metadata": {},
      "outputs": [],
      "source": [
        "def test_binarize():\n",
        "    M = np.array([[0.3, 0.5, 0.7], [0.1, 0.6, 0.8]])\n",
        "    expected_result = np.array([[0, 0, 1], [0, 1, 1]])\n",
        "    assert np.array_equal(binarize(M), expected_result)\n",
        "\n",
        "    M = np.array([[0.3, 0.5, 0.7], [0.1, 0.6, 0.8]])\n",
        "    expected_result = np.array([[0, 1, 1], [0, 1, 1]])\n",
        "    assert np.array_equal(binarize(M, 0.4), expected_result)\n",
        "\n",
        "test_binarize()"
      ]
    },
    {
      "cell_type": "markdown",
      "metadata": {
        "id": "IY5L-h-7zWhN"
      },
      "source": [
        "<h1>Задача 3. Напишите функцию, которая возвращает уникальные элементы из каждой строки матрицы. Напишите такую же функцию, но для столбцов. Напишите тесты для кода"
      ]
    },
    {
      "cell_type": "code",
      "execution_count": 8,
      "metadata": {
        "id": "-8dEZhR0SBC-"
      },
      "outputs": [],
      "source": [
        "def unique_rows(mat):\n",
        "    return [np.unique(row) for row in mat]\n",
        "\n",
        "def unique_columns(mat):\n",
        "    return [np.unique(col) for col in mat.T]\n"
      ]
    },
    {
      "cell_type": "code",
      "execution_count": 9,
      "metadata": {},
      "outputs": [],
      "source": [
        "def test_unique_rows_columns():\n",
        "    mat = np.array([[1, 2, 2], [3, 3, 3], [4, 5, 5]])\n",
        "\n",
        "    expected_result_rows = [np.array([1, 2]), np.array([3]), np.array([4, 5])]\n",
        "    result_rows = unique_rows(mat)\n",
        "    for result, expected in zip(result_rows, expected_result_rows):\n",
        "        assert np.array_equal(result, expected)\n",
        "\n",
        "    expected_result_columns = [np.array([1, 3, 4]), np.array([2, 3, 5]), np.array([2, 3, 5])]\n",
        "    result_columns = unique_columns(mat)\n",
        "    for result, expected in zip(result_columns, expected_result_columns):\n",
        "        assert np.array_equal(result, expected)\n",
        "\n",
        "test_unique_rows_columns()"
      ]
    },
    {
      "cell_type": "markdown",
      "metadata": {
        "id": "roYAlo4Jz-lH"
      },
      "source": [
        "<h1>Задача 4. Напишите функцию, которая заполняет матрицу с размерами $(m, n)$ случайными числами, распределенными по нормальному закону. Затем считает мат. ожидание и дисперсию для каждого из столбцов и строк, а также строит для каждой строки и столбца гистограмму значений (использовать функцию hist из модуля matplotlib.plot)"
      ]
    },
    {
      "cell_type": "code",
      "execution_count": 33,
      "metadata": {
        "id": "nZK_71hMSQzv"
      },
      "outputs": [],
      "source": [
        "def generate_and_analyze(m, n):\n",
        "    mat = np.random.normal(size=(m, n))\n",
        "\n",
        "    row_means = np.mean(mat, axis=1)\n",
        "    row_vars = np.var(mat, axis=1)\n",
        "    col_means = np.mean(mat, axis=0)\n",
        "    col_vars = np.var(mat, axis=0)\n",
        "\n",
        "    for i in range(m):\n",
        "        plt.figure(figsize=(3,3))\n",
        "        plt.hist(mat[i, :])\n",
        "        plt.title(f'Row {i+1}')\n",
        "        plt.show()\n",
        "\n",
        "    for i in range(n):\n",
        "        plt.figure(figsize=(3,3))\n",
        "        plt.hist(mat[:, i])\n",
        "        plt.title(f'Column {i+1}')\n",
        "        plt.show()\n",
        "\n",
        "    return row_means, row_vars, col_means, col_vars\n"
      ]
    },
    {
      "cell_type": "code",
      "execution_count": 34,
      "metadata": {},
      "outputs": [
        {
          "data": {
            "image/png": "[encoded data removed]",
            "text/plain": [
              "<Figure size 300x300 with 1 Axes>"
            ]
          },
          "metadata": {},
          "output_type": "display_data"
        },
        {
          "data": {
            "image/png": "[encoded data removed]",
            "text/plain": [
              "<Figure size 300x300 with 1 Axes>"
            ]
          },
          "metadata": {},
          "output_type": "display_data"
        },
        {
          "data": {
            "image/png": "[encoded data removed]",
            "text/plain": [
              "<Figure size 300x300 with 1 Axes>"
            ]
          },
          "metadata": {},
          "output_type": "display_data"
        },
        {
          "data": {
            "image/png": "[encoded data removed]",
            "text/plain": [
              "<Figure size 300x300 with 1 Axes>"
            ]
          },
          "metadata": {},
          "output_type": "display_data"
        },
        {
          "data": {
            "image/png": "[encoded data removed]",
            "text/plain": [
              "<Figure size 300x300 with 1 Axes>"
            ]
          },
          "metadata": {},
          "output_type": "display_data"
        },
        {
          "data": {
            "image/png": "[encoded data removed]",
            "text/plain": [
              "<Figure size 300x300 with 1 Axes>"
            ]
          },
          "metadata": {},
          "output_type": "display_data"
        },
        {
          "data": {
            "image/png": "[encoded data removed]",
            "text/plain": [
              "<Figure size 300x300 with 1 Axes>"
            ]
          },
          "metadata": {},
          "output_type": "display_data"
        },
        {
          "data": {
            "image/png": "[encoded data removed]",
            "text/plain": [
              "<Figure size 300x300 with 1 Axes>"
            ]
          },
          "metadata": {},
          "output_type": "display_data"
        },
        {
          "data": {
            "image/png": "[encoded data removed]",
            "text/plain": [
              "<Figure size 300x300 with 1 Axes>"
            ]
          },
          "metadata": {},
          "output_type": "display_data"
        },
        {
          "name": "stdout",
          "output_type": "stream",
          "text": [
            "Row means: [-0.42378127 -0.16070034  0.31486946 -0.56879243 -0.30294198]\n",
            "Row variances: [0.84971295 0.17401589 1.0826479  0.64933945 1.48213961]\n",
            "Column means: [ 0.00677101 -0.1503989   0.23860773 -1.00805708]\n",
            "Column variances: [0.4884565  1.19605181 0.73533217 0.45055104]\n"
          ]
        }
      ],
      "source": [
        "row_means, row_vars, col_means, col_vars = generate_and_analyze(5, 4)\n",
        "print('Row means:', row_means)\n",
        "print('Row variances:', row_vars)\n",
        "print('Column means:', col_means)\n",
        "print('Column variances:', col_vars)"
      ]
    },
    {
      "cell_type": "markdown",
      "metadata": {
        "id": "BDyATNdM0dJ2"
      },
      "source": [
        "<h1>Задача 5. Напишите функцию, которая заполняет матрицу $(m, n)$ в шахматном порядке заданными числами $a$ и $b$. Напишите тесты для кода"
      ]
    },
    {
      "cell_type": "code",
      "execution_count": 15,
      "metadata": {
        "id": "RWNJYWQGecS6"
      },
      "outputs": [],
      "source": [
        "def chess(m, n, a, b):\n",
        "    base = np.array([[a, b], [b, a]])\n",
        "    return np.tile(base, (m // 2 + m % 2, n // 2 + n % 2))[:m, :n]"
      ]
    },
    {
      "cell_type": "code",
      "execution_count": 19,
      "metadata": {},
      "outputs": [],
      "source": [
        "def test_chess():\n",
        "    expected_result = np.array([[1, 2], [2, 1]])\n",
        "    assert np.array_equal(chess(2, 2, 1, 2), expected_result)\n",
        "\n",
        "    expected_result = np.array([[1, 2, 1], [2, 1, 2], [1, 2, 1]])\n",
        "    assert np.array_equal(chess(3, 3, 1, 2), expected_result)\n",
        "\n",
        "    expected_result = np.array([[1, 0, 1, 0], [0, 1, 0, 1], [1, 0, 1, 0], [0, 1, 0, 1]])\n",
        "    assert np.array_equal(chess(4, 4, 1, 0), expected_result)\n",
        "\n",
        "test_chess()"
      ]
    },
    {
      "cell_type": "markdown",
      "metadata": {
        "id": "-ymXLtTN0vB6"
      },
      "source": [
        "<h1>Задача 6. Напишите функцию, которая отрисовывает прямоугольник с заданными размерами (a, b) на изображении размера (m, n), цвет фона задайте в схеме RGB, как и цвет прямоугольника. Цвета также должны быть параметрами функции. Напишите аналогичную функцию но для овала с полуосями a и b. Напишите тесты для кода.\n",
        "Примечание: уравнение эллипса (границы овала) можно записать как:\n",
        "<h1>$\\frac{(x-x_0)^2}{a^2}+\\frac{(y-y_0)^2}{b^2}=1$"
      ]
    },
    {
      "cell_type": "code",
      "execution_count": 20,
      "metadata": {
        "id": "sNfl1t_kfOF4"
      },
      "outputs": [],
      "source": [
        "def draw_rectangle(a, b, m, n, rectangle_color, background_color):\n",
        "    image = np.full((m, n, 3), background_color, dtype=np.uint8)\n",
        "\n",
        "    start_row = (m - a) // 2\n",
        "    end_row = start_row + a\n",
        "    start_col = (n - b) // 2\n",
        "    end_col = start_col + b\n",
        "    image[start_row:end_row, start_col:end_col] = rectangle_color\n",
        "\n",
        "    plt.imshow(image)\n",
        "    plt.axis('off')\n",
        "    plt.show()\n",
        "\n",
        "def draw_ellipse(a, b, m, n, ellipse_color, background_color):\n",
        "    image = np.full((m, n, 3), background_color, dtype=np.uint8)\n",
        "\n",
        "    x0 = m // 2\n",
        "    y0 = n // 2\n",
        "    x, y = np.meshgrid(np.arange(m), np.arange(n))\n",
        "\n",
        "    distances = ((x - x0) / a) ** 2 + ((y - y0) / b) ** 2\n",
        "    image[distances <= 1] = ellipse_color\n",
        "\n",
        "    plt.imshow(image)\n",
        "    plt.axis('off')\n",
        "    plt.show()"
      ]
    },
    {
      "cell_type": "code",
      "execution_count": 21,
      "metadata": {},
      "outputs": [
        {
          "data": {
            "image/png": "[encoded data removed]",
            "text/plain": [
              "<Figure size 640x480 with 1 Axes>"
            ]
          },
          "metadata": {},
          "output_type": "display_data"
        }
      ],
      "source": [
        "draw_rectangle(75,60,30,60,(0, 255, 127),(255, 69, 0))"
      ]
    },
    {
      "cell_type": "code",
      "execution_count": 22,
      "metadata": {},
      "outputs": [
        {
          "data": {
            "image/png": "[encoded data removed]",
            "text/plain": [
              "<Figure size 640x480 with 1 Axes>"
            ]
          },
          "metadata": {},
          "output_type": "display_data"
        }
      ],
      "source": [
        "draw_ellipse(120, 55, 500, 500, (127, 255, 212), (255, 250, 205))"
      ]
    },
    {
      "cell_type": "markdown",
      "metadata": {
        "id": "S82c38oz244H"
      },
      "source": [
        "<h1>Задача 7. Дан некий временной ряд. Для данного ряда нужно найти его: математическое ожидание, дисперсию, СКО, найти все локальные максимумы и минимумы (локальный максимум - это точка, которая больше своих соседних точек, а локальный минимум - это точка, которая меньше своих соседей), а также вычислить для данного ряда другой ряд, получаемый методом скользящего среднего с размером окна $p$.\n",
        "<h1>Примечание: метод скользящего среднего подразумевает нахождение среднего из подмножетсва ряда размером $p$"
      ]
    },
    {
      "cell_type": "code",
      "execution_count": 23,
      "metadata": {
        "id": "Zb9mIVge5MMt"
      },
      "outputs": [],
      "source": [
        "def analyze_time_series(series, p):\n",
        "    mean = np.mean(series)\n",
        "    print(f'Calculated mean: {mean}')\n",
        "    variance = np.var(series)\n",
        "    std_dev = np.std(series)\n",
        "\n",
        "    local_maxima = [i for i in range(1, len(series)-1) if series[i] > series[i-1] and series[i] > series[i+1]]\n",
        "    local_minima = [i for i in range(1, len(series)-1) if series[i] < series[i-1] and series[i] < series[i+1]]\n",
        "    window = np.ones(p) / p\n",
        "    moving_average = np.convolve(series, window, 'valid')\n",
        "\n",
        "    return mean, variance, std_dev, local_maxima, local_minima, moving_average"
      ]
    },
    {
      "cell_type": "code",
      "execution_count": 24,
      "metadata": {},
      "outputs": [
        {
          "name": "stdout",
          "output_type": "stream",
          "text": [
            "Calculated mean: 5.6\n",
            "mean: 5.6\n",
            "variance: 9.64\n",
            "std_dev: 3.104834939252005\n",
            "varlocal_maximaiance: [1, 6, 8]\n",
            "local_minima: [3, 7]\n",
            "moving_average: [6.5 7.5 4.  2.5 4.  6.5 7.5 8.5 6. ]\n"
          ]
        }
      ],
      "source": [
        "mean, variance, std_dev, local_maxima, local_minima, moving_average = analyze_time_series([5, 8, 7, 1, 4, 4, 9, 6, 11, 1],2)\n",
        "print('mean:',mean)\n",
        "print('variance:',variance)\n",
        "print('std_dev:',std_dev)\n",
        "print('varlocal_maximaiance:',local_maxima)\n",
        "print('local_minima:',local_minima)\n",
        "print('moving_average:',moving_average)"
      ]
    },
    {
      "cell_type": "markdown",
      "metadata": {
        "id": "jPkylmOX5O9n"
      },
      "source": [
        "<h1> Задача 8. Дан некоторый вектор с целочисленными метками классов, напишите функцию, которая выполняет one-hot-encoding для данного вектора\n",
        "<h1> One-hot-encoding - представление, в котором на месте метки некоторого класса стоит 1, в остальных позициях стоит 0. Например для вектора [0, 2, 3, 0] one-hot-encoding выглядит как: [[1, 0, 0, 0], [0, 0, 1, 0], [0, 0, 0, 1], [1, 0, 0, 0]]"
      ]
    },
    {
      "cell_type": "code",
      "execution_count": 25,
      "metadata": {
        "id": "Y-jlnZvw56lD"
      },
      "outputs": [],
      "source": [
        "def one_hot_encode(labels):\n",
        "    n_classes = np.max(labels) + 1\n",
        "    return np.eye(n_classes)[labels]"
      ]
    },
    {
      "cell_type": "code",
      "execution_count": 26,
      "metadata": {},
      "outputs": [
        {
          "data": {
            "text/plain": [
              "array([[1., 0., 0., 0.],\n",
              "       [0., 0., 1., 0.],\n",
              "       [0., 0., 0., 1.],\n",
              "       [1., 0., 0., 0.]])"
            ]
          },
          "execution_count": 26,
          "metadata": {},
          "output_type": "execute_result"
        }
      ],
      "source": [
        "one_hot_encode([0, 2, 3, 0])"
      ]
    }
  ],
  "metadata": {
    "colab": {
      "provenance": []
    },
    "kernelspec": {
      "display_name": "Python 3",
      "name": "python3"
    },
    "language_info": {
      "codemirror_mode": {
        "name": "ipython",
        "version": 3
      },
      "file_extension": ".py",
      "mimetype": "text/x-python",
      "name": "python",
      "nbconvert_exporter": "python",
      "pygments_lexer": "ipython3",
      "version": "3.11.8"
    }
  },
  "nbformat": 4,
  "nbformat_minor": 0
}
